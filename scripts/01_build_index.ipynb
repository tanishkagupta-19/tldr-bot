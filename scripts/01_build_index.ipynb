{
 "cells": [
  {
   "cell_type": "code",
   "execution_count": 2,
   "id": "19d24718",
   "metadata": {},
   "outputs": [],
   "source": [
    "import pandas as pd\n",
    "from sentence_transformers import SentenceTransformer\n",
    "import numpy as np\n",
    "import time\n",
    "import os"
   ]
  },
  {
   "cell_type": "code",
   "execution_count": 4,
   "id": "150de160",
   "metadata": {},
   "outputs": [
    {
     "name": "stdout",
     "output_type": "stream",
     "text": [
      "Loading and preparing data...\n",
      "   > Loaded 4076 articles.\n",
      "   > Done in 0.34s.\n",
      "\n",
      "Generating or Loading Embeddings...\n",
      "   > Found existing embeddings file, loading...\n",
      "   > Embeddings ready with shape: (4076, 384)\n",
      "   > Done in 0.02s.\n"
     ]
    }
   ],
   "source": [
    "DATA_PATH = \"D:/tldr-bot/data/CNN_Articels_clean.csv\"\n",
    "EMBEDDING_PATH = \"saved_index/article_embeddings.npy\"\n",
    "\n",
    "print(\"Loading and preparing data...\")\n",
    "start_time = time.time()\n",
    "\n",
    "try:\n",
    "    df = pd.read_csv(DATA_PATH)\n",
    "    df.dropna(subset=['Article text'], inplace=True)\n",
    "    article_texts = df['Article text'].tolist()\n",
    "    print(f\"   > Loaded {len(article_texts)} articles.\")\n",
    "except FileNotFoundError:\n",
    "    print(f\"   > Error: File not found at {DATA_PATH}\")\n",
    "    article_texts = []\n",
    "\n",
    "end_time = time.time()\n",
    "print(f\"   > Done in {end_time - start_time:.2f}s.\")\n",
    "\n",
    "\n",
    "if article_texts:\n",
    "    print(\"\\nGenerating or Loading Embeddings...\")\n",
    "    step2_start_time = time.time()\n",
    "\n",
    "    if os.path.exists(EMBEDDING_PATH):\n",
    "        print(\"   > Found existing embeddings file, loading...\")\n",
    "        embeddings = np.load(EMBEDDING_PATH)\n",
    "    else:\n",
    "        print(\"   > No embeddings file found. Creating new embeddings...\")\n",
    "        model = SentenceTransformer('all-MiniLM-L6-v2')\n",
    "        embeddings = model.encode(article_texts, show_progress_bar=True)\n",
    "        os.makedirs(os.path.dirname(EMBEDDING_PATH), exist_ok=True)\n",
    "        np.save(EMBEDDING_PATH, embeddings)\n",
    "        print(f\"   > Embeddings saved to {EMBEDDING_PATH}\")\n",
    "\n",
    "    print(f\"   > Embeddings ready with shape: {embeddings.shape}\")\n",
    "    step2_end_time = time.time()\n",
    "    print(f\"   > Done in {step2_end_time - step2_start_time:.2f}s.\")"
   ]
  }
 ],
 "metadata": {
  "kernelspec": {
   "display_name": "tldr-env",
   "language": "python",
   "name": "python3"
  },
  "language_info": {
   "codemirror_mode": {
    "name": "ipython",
    "version": 3
   },
   "file_extension": ".py",
   "mimetype": "text/x-python",
   "name": "python",
   "nbconvert_exporter": "python",
   "pygments_lexer": "ipython3",
   "version": "3.11.0"
  }
 },
 "nbformat": 4,
 "nbformat_minor": 5
}
